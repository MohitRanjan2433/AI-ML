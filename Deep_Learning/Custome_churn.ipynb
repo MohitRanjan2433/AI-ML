{
 "cells": [
  {
   "cell_type": "markdown",
   "metadata": {},
   "source": [
    "Customer_churn_Prediction using ANN"
   ]
  },
  {
   "cell_type": "code",
   "execution_count": 2,
   "metadata": {},
   "outputs": [],
   "source": [
    "import numpy as np\n",
    "import pandas as pd\n",
    "import matplotlib.pyplot as plt"
   ]
  },
  {
   "cell_type": "code",
   "execution_count": 3,
   "metadata": {},
   "outputs": [],
   "source": [
    "dataset = pd.read_csv('Dataset/Churn_Modelling.csv')"
   ]
  },
  {
   "cell_type": "code",
   "execution_count": 4,
   "metadata": {},
   "outputs": [],
   "source": [
    "X = dataset.iloc[:, 3:13]\n",
    "y = dataset.iloc[:, 13]"
   ]
  },
  {
   "cell_type": "code",
   "execution_count": 5,
   "metadata": {},
   "outputs": [],
   "source": [
    "#create dummy variable\n",
    "geography = pd.get_dummies(X[\"Geography\"], drop_first=True)\n",
    "gender = pd.get_dummies(X['Gender'], drop_first=True)"
   ]
  },
  {
   "cell_type": "code",
   "execution_count": 6,
   "metadata": {},
   "outputs": [],
   "source": [
    "#concat the data_frames\n",
    "X = pd.concat([X,geography,gender], axis=1)"
   ]
  },
  {
   "cell_type": "code",
   "execution_count": 7,
   "metadata": {},
   "outputs": [],
   "source": [
    "#drop unessary column\n",
    "X = X.drop(['Geography','Gender'], axis=1)"
   ]
  },
  {
   "cell_type": "code",
   "execution_count": 8,
   "metadata": {},
   "outputs": [],
   "source": [
    "#splitting the dataset into training and testing dataset\n",
    "from sklearn.model_selection import train_test_split\n",
    "X_train, X_test, y_train, y_test = train_test_split(X,y, test_size=0.2, random_state=0)"
   ]
  },
  {
   "cell_type": "code",
   "execution_count": 9,
   "metadata": {},
   "outputs": [],
   "source": [
    "#feature scaling\n",
    "from sklearn.preprocessing import StandardScaler\n",
    "sc = StandardScaler()\n",
    "X_train = sc.fit_transform(X_train)\n",
    "X_test = sc.transform(X_test)"
   ]
  },
  {
   "cell_type": "markdown",
   "metadata": {},
   "source": [
    "Part-2 Now let's make the ANN"
   ]
  },
  {
   "cell_type": "code",
   "execution_count": 10,
   "metadata": {},
   "outputs": [],
   "source": [
    "#import the keras libraries and packages\n",
    "\n",
    "import keras\n",
    "from keras.models import Sequential\n",
    "from keras.layers import Dense\n",
    "from keras.layers import LeakyReLU,PReLU,ELU\n",
    "from keras.layers import Dropout"
   ]
  },
  {
   "cell_type": "code",
   "execution_count": 11,
   "metadata": {},
   "outputs": [],
   "source": [
    "#initialising thE ANN\n",
    "classifier = Sequential()"
   ]
  },
  {
   "cell_type": "code",
   "execution_count": 17,
   "metadata": {},
   "outputs": [],
   "source": [
    "#Adding the input layer and the first hidden layer\n",
    "classifier.add(Dense(units = 6, kernel_initializer = 'he_uniform', activation='relu', input_dim = 11))\n",
    "\n",
    "#adding the second hidden layer\n",
    "classifier.add(Dense(units = 6, kernel_initializer = 'he_uniform', activation='relu'))\n",
    "\n",
    "#adding the output layer\n",
    "classifier.add(Dense(units = 1, kernel_initializer = 'glorot_uniform', activation='sigmoid'))\n"
   ]
  },
  {
   "cell_type": "code",
   "execution_count": 19,
   "metadata": {},
   "outputs": [],
   "source": [
    "#compiling the ANN\n",
    "classifier.compile(optimizer='Adamax', loss='binary_crossentropy', metrics=['accuracy'])"
   ]
  },
  {
   "cell_type": "code",
   "execution_count": 20,
   "metadata": {},
   "outputs": [
    {
     "name": "stdout",
     "output_type": "stream",
     "text": [
      "Model: \"sequential\"\n",
      "_________________________________________________________________\n",
      "Layer (type)                 Output Shape              Param #   \n",
      "=================================================================\n",
      "dense (Dense)                (None, 6)                 72        \n",
      "_________________________________________________________________\n",
      "dense_1 (Dense)              (None, 6)                 42        \n",
      "_________________________________________________________________\n",
      "dense_2 (Dense)              (None, 6)                 42        \n",
      "_________________________________________________________________\n",
      "dense_3 (Dense)              (None, 1)                 7         \n",
      "=================================================================\n",
      "Total params: 163\n",
      "Trainable params: 163\n",
      "Non-trainable params: 0\n",
      "_________________________________________________________________\n"
     ]
    }
   ],
   "source": [
    "classifier.summary()"
   ]
  },
  {
   "cell_type": "code",
   "execution_count": 25,
   "metadata": {},
   "outputs": [
    {
     "name": "stdout",
     "output_type": "stream",
     "text": [
      "Epoch 1/100\n",
      "536/536 [==============================] - 21s 3ms/step - loss: 0.8241 - accuracy: 0.4560 - val_loss: 0.5547 - val_accuracy: 0.7732\n",
      "Epoch 2/100\n",
      "536/536 [==============================] - 1s 2ms/step - loss: 0.5330 - accuracy: 0.7862 - val_loss: 0.4972 - val_accuracy: 0.7955\n",
      "Epoch 3/100\n",
      "536/536 [==============================] - 1s 2ms/step - loss: 0.4921 - accuracy: 0.7922 - val_loss: 0.4826 - val_accuracy: 0.7955\n",
      "Epoch 4/100\n",
      "536/536 [==============================] - 1s 2ms/step - loss: 0.4805 - accuracy: 0.7866 - val_loss: 0.4727 - val_accuracy: 0.7955\n",
      "Epoch 5/100\n",
      "536/536 [==============================] - 1s 2ms/step - loss: 0.4733 - accuracy: 0.7919 - val_loss: 0.4644 - val_accuracy: 0.7982\n",
      "Epoch 6/100\n",
      "536/536 [==============================] - 1s 2ms/step - loss: 0.4431 - accuracy: 0.8065 - val_loss: 0.4575 - val_accuracy: 0.8031\n",
      "Epoch 7/100\n",
      "536/536 [==============================] - 1s 2ms/step - loss: 0.4342 - accuracy: 0.8142 - val_loss: 0.4521 - val_accuracy: 0.8080\n",
      "Epoch 8/100\n",
      "536/536 [==============================] - 1s 2ms/step - loss: 0.4399 - accuracy: 0.8055 - val_loss: 0.4485 - val_accuracy: 0.8088\n",
      "Epoch 9/100\n",
      "536/536 [==============================] - 1s 2ms/step - loss: 0.4445 - accuracy: 0.8117 - val_loss: 0.4457 - val_accuracy: 0.8103\n",
      "Epoch 10/100\n",
      "536/536 [==============================] - 1s 2ms/step - loss: 0.4248 - accuracy: 0.8199 - val_loss: 0.4435 - val_accuracy: 0.8092\n",
      "Epoch 11/100\n",
      "536/536 [==============================] - 1s 2ms/step - loss: 0.4203 - accuracy: 0.8178 - val_loss: 0.4414 - val_accuracy: 0.8080\n",
      "Epoch 12/100\n",
      "536/536 [==============================] - 1s 2ms/step - loss: 0.4304 - accuracy: 0.8093 - val_loss: 0.4396 - val_accuracy: 0.8092\n",
      "Epoch 13/100\n",
      "536/536 [==============================] - 1s 2ms/step - loss: 0.4372 - accuracy: 0.8034 - val_loss: 0.4380 - val_accuracy: 0.8080\n",
      "Epoch 14/100\n",
      "536/536 [==============================] - 1s 2ms/step - loss: 0.4260 - accuracy: 0.8135 - val_loss: 0.4363 - val_accuracy: 0.8084\n",
      "Epoch 15/100\n",
      "536/536 [==============================] - 1s 2ms/step - loss: 0.4179 - accuracy: 0.8154 - val_loss: 0.4348 - val_accuracy: 0.8092\n",
      "Epoch 16/100\n",
      "536/536 [==============================] - 1s 2ms/step - loss: 0.4225 - accuracy: 0.8090 - val_loss: 0.4330 - val_accuracy: 0.8095\n",
      "Epoch 17/100\n",
      "536/536 [==============================] - 1s 2ms/step - loss: 0.4260 - accuracy: 0.8122 - val_loss: 0.4312 - val_accuracy: 0.8103\n",
      "Epoch 18/100\n",
      "536/536 [==============================] - 1s 2ms/step - loss: 0.4160 - accuracy: 0.8206 - val_loss: 0.4293 - val_accuracy: 0.8111\n",
      "Epoch 19/100\n",
      "536/536 [==============================] - 1s 2ms/step - loss: 0.4046 - accuracy: 0.8245 - val_loss: 0.4274 - val_accuracy: 0.8137\n",
      "Epoch 20/100\n",
      "536/536 [==============================] - 1s 2ms/step - loss: 0.4132 - accuracy: 0.8171 - val_loss: 0.4255 - val_accuracy: 0.8167\n",
      "Epoch 21/100\n",
      "536/536 [==============================] - 1s 2ms/step - loss: 0.4119 - accuracy: 0.8220 - val_loss: 0.4236 - val_accuracy: 0.8171\n",
      "Epoch 22/100\n",
      "536/536 [==============================] - 1s 2ms/step - loss: 0.4014 - accuracy: 0.8238 - val_loss: 0.4210 - val_accuracy: 0.8190\n",
      "Epoch 23/100\n",
      "536/536 [==============================] - 1s 2ms/step - loss: 0.4067 - accuracy: 0.8265 - val_loss: 0.4185 - val_accuracy: 0.8164\n",
      "Epoch 24/100\n",
      "536/536 [==============================] - 1s 2ms/step - loss: 0.3963 - accuracy: 0.8303 - val_loss: 0.4154 - val_accuracy: 0.8224\n",
      "Epoch 25/100\n",
      "536/536 [==============================] - 1s 2ms/step - loss: 0.3789 - accuracy: 0.8377 - val_loss: 0.4125 - val_accuracy: 0.8236\n",
      "Epoch 26/100\n",
      "536/536 [==============================] - 1s 2ms/step - loss: 0.3778 - accuracy: 0.8398 - val_loss: 0.4095 - val_accuracy: 0.8232\n",
      "Epoch 27/100\n",
      "536/536 [==============================] - 1s 2ms/step - loss: 0.4008 - accuracy: 0.8288 - val_loss: 0.4066 - val_accuracy: 0.8273\n",
      "Epoch 28/100\n",
      "536/536 [==============================] - 1s 2ms/step - loss: 0.3825 - accuracy: 0.8368 - val_loss: 0.4034 - val_accuracy: 0.8285\n",
      "Epoch 29/100\n",
      "536/536 [==============================] - 1s 2ms/step - loss: 0.3785 - accuracy: 0.8450 - val_loss: 0.4002 - val_accuracy: 0.8300\n",
      "Epoch 30/100\n",
      "536/536 [==============================] - 1s 2ms/step - loss: 0.3774 - accuracy: 0.8486 - val_loss: 0.3973 - val_accuracy: 0.8296\n",
      "Epoch 31/100\n",
      "536/536 [==============================] - 1s 2ms/step - loss: 0.3757 - accuracy: 0.8383 - val_loss: 0.3945 - val_accuracy: 0.8330\n",
      "Epoch 32/100\n",
      "536/536 [==============================] - 1s 2ms/step - loss: 0.3630 - accuracy: 0.8472 - val_loss: 0.3918 - val_accuracy: 0.8368\n",
      "Epoch 33/100\n",
      "536/536 [==============================] - 1s 2ms/step - loss: 0.3664 - accuracy: 0.8469 - val_loss: 0.3896 - val_accuracy: 0.8395\n",
      "Epoch 34/100\n",
      "536/536 [==============================] - 1s 2ms/step - loss: 0.3570 - accuracy: 0.8515 - val_loss: 0.3874 - val_accuracy: 0.8398\n",
      "Epoch 35/100\n",
      "536/536 [==============================] - 1s 2ms/step - loss: 0.3735 - accuracy: 0.8332 - val_loss: 0.3856 - val_accuracy: 0.8402\n",
      "Epoch 36/100\n",
      "536/536 [==============================] - 1s 3ms/step - loss: 0.3665 - accuracy: 0.8430 - val_loss: 0.3839 - val_accuracy: 0.8429\n",
      "Epoch 37/100\n",
      "536/536 [==============================] - 2s 4ms/step - loss: 0.3622 - accuracy: 0.8464 - val_loss: 0.3826 - val_accuracy: 0.8432\n",
      "Epoch 38/100\n",
      "536/536 [==============================] - 2s 4ms/step - loss: 0.3653 - accuracy: 0.8448 - val_loss: 0.3813 - val_accuracy: 0.8421\n",
      "Epoch 39/100\n",
      "536/536 [==============================] - 1s 2ms/step - loss: 0.3703 - accuracy: 0.8442 - val_loss: 0.3804 - val_accuracy: 0.8417\n",
      "Epoch 40/100\n",
      "536/536 [==============================] - 1s 2ms/step - loss: 0.3603 - accuracy: 0.8463 - val_loss: 0.3798 - val_accuracy: 0.8410\n",
      "Epoch 41/100\n",
      "536/536 [==============================] - 2s 3ms/step - loss: 0.3501 - accuracy: 0.8536 - val_loss: 0.3791 - val_accuracy: 0.8410\n",
      "Epoch 42/100\n",
      "536/536 [==============================] - 2s 3ms/step - loss: 0.3557 - accuracy: 0.8508 - val_loss: 0.3783 - val_accuracy: 0.8444\n",
      "Epoch 43/100\n",
      "536/536 [==============================] - 1s 3ms/step - loss: 0.3524 - accuracy: 0.8478 - val_loss: 0.3778 - val_accuracy: 0.8425\n",
      "Epoch 44/100\n",
      "536/536 [==============================] - 1s 2ms/step - loss: 0.3492 - accuracy: 0.8524 - val_loss: 0.3773 - val_accuracy: 0.8436\n",
      "Epoch 45/100\n",
      "536/536 [==============================] - 1s 2ms/step - loss: 0.3537 - accuracy: 0.8505 - val_loss: 0.3771 - val_accuracy: 0.8425\n",
      "Epoch 46/100\n",
      "536/536 [==============================] - 1s 2ms/step - loss: 0.3355 - accuracy: 0.8566 - val_loss: 0.3765 - val_accuracy: 0.8455\n",
      "Epoch 47/100\n",
      "536/536 [==============================] - 1s 2ms/step - loss: 0.3463 - accuracy: 0.8575 - val_loss: 0.3761 - val_accuracy: 0.8463\n",
      "Epoch 48/100\n",
      "536/536 [==============================] - 1s 2ms/step - loss: 0.3565 - accuracy: 0.8464 - val_loss: 0.3758 - val_accuracy: 0.8466\n",
      "Epoch 49/100\n",
      "536/536 [==============================] - 1s 2ms/step - loss: 0.3494 - accuracy: 0.8549 - val_loss: 0.3754 - val_accuracy: 0.8459\n",
      "Epoch 50/100\n",
      "536/536 [==============================] - 1s 2ms/step - loss: 0.3405 - accuracy: 0.8602 - val_loss: 0.3752 - val_accuracy: 0.8474\n",
      "Epoch 51/100\n",
      "536/536 [==============================] - 1s 2ms/step - loss: 0.3398 - accuracy: 0.8540 - val_loss: 0.3750 - val_accuracy: 0.8470\n",
      "Epoch 52/100\n",
      "536/536 [==============================] - 1s 3ms/step - loss: 0.3424 - accuracy: 0.8543 - val_loss: 0.3744 - val_accuracy: 0.8474\n",
      "Epoch 53/100\n",
      "536/536 [==============================] - 1s 2ms/step - loss: 0.3486 - accuracy: 0.8525 - val_loss: 0.3740 - val_accuracy: 0.8478\n",
      "Epoch 54/100\n",
      "536/536 [==============================] - 1s 3ms/step - loss: 0.3601 - accuracy: 0.8478 - val_loss: 0.3739 - val_accuracy: 0.8478\n",
      "Epoch 55/100\n",
      "536/536 [==============================] - 1s 3ms/step - loss: 0.3504 - accuracy: 0.8526 - val_loss: 0.3736 - val_accuracy: 0.8485\n",
      "Epoch 56/100\n",
      "536/536 [==============================] - 1s 2ms/step - loss: 0.3517 - accuracy: 0.8488 - val_loss: 0.3736 - val_accuracy: 0.8485\n",
      "Epoch 57/100\n",
      "536/536 [==============================] - 1s 2ms/step - loss: 0.3557 - accuracy: 0.8478 - val_loss: 0.3736 - val_accuracy: 0.8478\n",
      "Epoch 58/100\n",
      "536/536 [==============================] - 1s 2ms/step - loss: 0.3369 - accuracy: 0.8557 - val_loss: 0.3732 - val_accuracy: 0.8478\n",
      "Epoch 59/100\n",
      "536/536 [==============================] - 1s 2ms/step - loss: 0.3409 - accuracy: 0.8528 - val_loss: 0.3729 - val_accuracy: 0.8478\n",
      "Epoch 60/100\n",
      "536/536 [==============================] - 1s 2ms/step - loss: 0.3385 - accuracy: 0.8581 - val_loss: 0.3726 - val_accuracy: 0.8482\n",
      "Epoch 61/100\n",
      "536/536 [==============================] - 1s 2ms/step - loss: 0.3501 - accuracy: 0.8560 - val_loss: 0.3722 - val_accuracy: 0.8485\n",
      "Epoch 62/100\n",
      "536/536 [==============================] - 1s 2ms/step - loss: 0.3356 - accuracy: 0.8606 - val_loss: 0.3724 - val_accuracy: 0.8482\n",
      "Epoch 63/100\n",
      "536/536 [==============================] - 1s 2ms/step - loss: 0.3522 - accuracy: 0.8507 - val_loss: 0.3718 - val_accuracy: 0.8485\n",
      "Epoch 64/100\n",
      "536/536 [==============================] - 1s 2ms/step - loss: 0.3565 - accuracy: 0.8449 - val_loss: 0.3716 - val_accuracy: 0.8478\n",
      "Epoch 65/100\n",
      "536/536 [==============================] - 2s 3ms/step - loss: 0.3415 - accuracy: 0.8577 - val_loss: 0.3713 - val_accuracy: 0.8478\n",
      "Epoch 66/100\n",
      "536/536 [==============================] - 1s 3ms/step - loss: 0.3300 - accuracy: 0.8579 - val_loss: 0.3713 - val_accuracy: 0.8497\n",
      "Epoch 67/100\n",
      "536/536 [==============================] - 2s 3ms/step - loss: 0.3287 - accuracy: 0.8595 - val_loss: 0.3707 - val_accuracy: 0.8485\n",
      "Epoch 68/100\n",
      "536/536 [==============================] - 1s 2ms/step - loss: 0.3365 - accuracy: 0.8602 - val_loss: 0.3705 - val_accuracy: 0.8493\n",
      "Epoch 69/100\n",
      "536/536 [==============================] - 1s 2ms/step - loss: 0.3505 - accuracy: 0.8548 - val_loss: 0.3708 - val_accuracy: 0.8482\n",
      "Epoch 70/100\n",
      "536/536 [==============================] - 1s 2ms/step - loss: 0.3448 - accuracy: 0.8572 - val_loss: 0.3702 - val_accuracy: 0.8501\n",
      "Epoch 71/100\n",
      "536/536 [==============================] - 1s 2ms/step - loss: 0.3383 - accuracy: 0.8578 - val_loss: 0.3696 - val_accuracy: 0.8508\n",
      "Epoch 72/100\n",
      "536/536 [==============================] - 1s 2ms/step - loss: 0.3522 - accuracy: 0.8470 - val_loss: 0.3693 - val_accuracy: 0.8508\n",
      "Epoch 73/100\n",
      "536/536 [==============================] - 1s 2ms/step - loss: 0.3467 - accuracy: 0.8550 - val_loss: 0.3691 - val_accuracy: 0.8482\n",
      "Epoch 74/100\n",
      "536/536 [==============================] - 1s 2ms/step - loss: 0.3262 - accuracy: 0.8612 - val_loss: 0.3685 - val_accuracy: 0.8519\n",
      "Epoch 75/100\n",
      "536/536 [==============================] - 1s 2ms/step - loss: 0.3340 - accuracy: 0.8640 - val_loss: 0.3681 - val_accuracy: 0.8501\n",
      "Epoch 76/100\n",
      "536/536 [==============================] - 1s 2ms/step - loss: 0.3498 - accuracy: 0.8495 - val_loss: 0.3678 - val_accuracy: 0.8504\n",
      "Epoch 77/100\n",
      "536/536 [==============================] - 1s 2ms/step - loss: 0.3505 - accuracy: 0.8545 - val_loss: 0.3672 - val_accuracy: 0.8501\n",
      "Epoch 78/100\n",
      "536/536 [==============================] - 1s 2ms/step - loss: 0.3380 - accuracy: 0.8566 - val_loss: 0.3669 - val_accuracy: 0.8482\n",
      "Epoch 79/100\n",
      "536/536 [==============================] - 1s 2ms/step - loss: 0.3199 - accuracy: 0.8668 - val_loss: 0.3666 - val_accuracy: 0.8512\n",
      "Epoch 80/100\n",
      "536/536 [==============================] - 1s 3ms/step - loss: 0.3329 - accuracy: 0.8608 - val_loss: 0.3662 - val_accuracy: 0.8489\n",
      "Epoch 81/100\n",
      "536/536 [==============================] - 1s 3ms/step - loss: 0.3388 - accuracy: 0.8586 - val_loss: 0.3657 - val_accuracy: 0.8504\n",
      "Epoch 82/100\n",
      "536/536 [==============================] - 1s 2ms/step - loss: 0.3335 - accuracy: 0.8605 - val_loss: 0.3654 - val_accuracy: 0.8512\n",
      "Epoch 83/100\n",
      "536/536 [==============================] - 1s 2ms/step - loss: 0.3414 - accuracy: 0.8511 - val_loss: 0.3649 - val_accuracy: 0.8527\n",
      "Epoch 84/100\n",
      "536/536 [==============================] - 1s 2ms/step - loss: 0.3353 - accuracy: 0.8575 - val_loss: 0.3649 - val_accuracy: 0.8527\n",
      "Epoch 85/100\n",
      "536/536 [==============================] - 1s 2ms/step - loss: 0.3231 - accuracy: 0.8630 - val_loss: 0.3641 - val_accuracy: 0.8527\n",
      "Epoch 86/100\n",
      "536/536 [==============================] - 1s 2ms/step - loss: 0.3276 - accuracy: 0.8630 - val_loss: 0.3637 - val_accuracy: 0.8535\n",
      "Epoch 87/100\n",
      "536/536 [==============================] - 1s 2ms/step - loss: 0.3297 - accuracy: 0.8640 - val_loss: 0.3636 - val_accuracy: 0.8531\n",
      "Epoch 88/100\n",
      "536/536 [==============================] - 1s 2ms/step - loss: 0.3346 - accuracy: 0.8612 - val_loss: 0.3632 - val_accuracy: 0.8535\n",
      "Epoch 89/100\n",
      "536/536 [==============================] - 1s 2ms/step - loss: 0.3280 - accuracy: 0.8684 - val_loss: 0.3632 - val_accuracy: 0.8542\n",
      "Epoch 90/100\n",
      "536/536 [==============================] - 1s 2ms/step - loss: 0.3395 - accuracy: 0.8592 - val_loss: 0.3628 - val_accuracy: 0.8546\n",
      "Epoch 91/100\n",
      "536/536 [==============================] - 1s 2ms/step - loss: 0.3321 - accuracy: 0.8640 - val_loss: 0.3622 - val_accuracy: 0.8546\n",
      "Epoch 92/100\n",
      "536/536 [==============================] - 1s 2ms/step - loss: 0.3271 - accuracy: 0.8685 - val_loss: 0.3619 - val_accuracy: 0.8542\n",
      "Epoch 93/100\n",
      "536/536 [==============================] - 1s 1ms/step - loss: 0.3221 - accuracy: 0.8666 - val_loss: 0.3618 - val_accuracy: 0.8535\n",
      "Epoch 94/100\n",
      "536/536 [==============================] - 1s 2ms/step - loss: 0.3295 - accuracy: 0.8649 - val_loss: 0.3616 - val_accuracy: 0.8527\n",
      "Epoch 95/100\n",
      "536/536 [==============================] - 1s 2ms/step - loss: 0.3301 - accuracy: 0.8724 - val_loss: 0.3613 - val_accuracy: 0.8535\n",
      "Epoch 96/100\n",
      "536/536 [==============================] - 1s 2ms/step - loss: 0.3213 - accuracy: 0.8671 - val_loss: 0.3610 - val_accuracy: 0.8542\n",
      "Epoch 97/100\n",
      "536/536 [==============================] - 1s 2ms/step - loss: 0.3289 - accuracy: 0.8661 - val_loss: 0.3611 - val_accuracy: 0.8523\n",
      "Epoch 98/100\n",
      "536/536 [==============================] - 1s 2ms/step - loss: 0.3410 - accuracy: 0.8548 - val_loss: 0.3614 - val_accuracy: 0.8516\n",
      "Epoch 99/100\n",
      "536/536 [==============================] - 1s 2ms/step - loss: 0.3425 - accuracy: 0.8572 - val_loss: 0.3614 - val_accuracy: 0.8519\n",
      "Epoch 100/100\n",
      "536/536 [==============================] - 1s 2ms/step - loss: 0.3152 - accuracy: 0.8724 - val_loss: 0.3617 - val_accuracy: 0.8523\n"
     ]
    }
   ],
   "source": [
    "#fitting the ANN to the training set\n",
    "model_history = classifier.fit(X_train, y_train, validation_split=0.33, batch_size=10, epochs = 100)"
   ]
  },
  {
   "cell_type": "code",
   "execution_count": 26,
   "metadata": {},
   "outputs": [
    {
     "data": {
      "image/png": "[encoded data removed]",
      "text/plain": [
       "<Figure size 640x480 with 1 Axes>"
      ]
     },
     "metadata": {},
     "output_type": "display_data"
    }
   ],
   "source": [
    "#summarise history for loss\n",
    "plt.plot(model_history.history['loss'])\n",
    "plt.plot(model_history.history['val_loss'])\n",
    "plt.title('model_loss')\n",
    "plt.ylabel('loss')\n",
    "plt.xlabel('epoch')\n",
    "plt.legend(['train', 'test'], loc='upper left')\n",
    "plt.show()"
   ]
  },
  {
   "cell_type": "markdown",
   "metadata": {},
   "source": [
    "Making the prediction & evaluating the model"
   ]
  },
  {
   "cell_type": "code",
   "execution_count": 40,
   "metadata": {},
   "outputs": [],
   "source": [
    "#predicting the test set result\n",
    "y_pred = classifier.predict(X_test)\n",
    "y_pred = (y_pred>0.5).astype(int)"
   ]
  },
  {
   "cell_type": "code",
   "execution_count": 28,
   "metadata": {},
   "outputs": [],
   "source": [
    "#making the confusion matrix\n",
    "from sklearn.metrics import confusion_matrix\n",
    "cm = confusion_matrix(y_test, y_pred)"
   ]
  },
  {
   "cell_type": "code",
   "execution_count": 31,
   "metadata": {},
   "outputs": [
    {
     "data": {
      "image/png": "[encoded data removed]",
      "text/plain": [
       "<Figure size 640x480 with 2 Axes>"
      ]
     },
     "metadata": {},
     "output_type": "display_data"
    }
   ],
   "source": [
    "import seaborn as sns\n",
    "\n",
    "# Create a heatmap of the confusion matrix\n",
    "sns.heatmap(cm, annot=True, fmt=\"d\", cmap=\"Blues\")\n",
    "plt.xlabel('Predicted Labels')\n",
    "plt.ylabel('True Labels')\n",
    "plt.title('Confusion Matrix')\n",
    "plt.show()"
   ]
  },
  {
   "cell_type": "code",
   "execution_count": 33,
   "metadata": {},
   "outputs": [
    {
     "data": {
      "text/plain": [
       "0.8565"
      ]
     },
     "execution_count": 33,
     "metadata": {},
     "output_type": "execute_result"
    }
   ],
   "source": [
    "#calculate the accuracy\n",
    "from sklearn.metrics import accuracy_score\n",
    "score=accuracy_score(y_test,y_pred)\n",
    "score"
   ]
  },
  {
   "cell_type": "code",
   "execution_count": 41,
   "metadata": {},
   "outputs": [
    {
     "data": {
      "text/plain": [
       "1"
      ]
     },
     "execution_count": 41,
     "metadata": {},
     "output_type": "execute_result"
    }
   ],
   "source": [
    "y_pred[15][0]"
   ]
  }
 ],
 "metadata": {
  "kernelspec": {
   "display_name": "base",
   "language": "python",
   "name": "python3"
  },
  "language_info": {
   "codemirror_mode": {
    "name": "ipython",
    "version": 3
   },
   "file_extension": ".py",
   "mimetype": "text/x-python",
   "name": "python",
   "nbconvert_exporter": "python",
   "pygments_lexer": "ipython3",
   "version": "3.9.13"
  },
  "orig_nbformat": 4
 },
 "nbformat": 4,
 "nbformat_minor": 2
}
